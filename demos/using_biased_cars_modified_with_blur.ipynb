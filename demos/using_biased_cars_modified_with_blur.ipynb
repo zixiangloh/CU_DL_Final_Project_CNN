{
 "cells": [
  {
   "cell_type": "markdown",
   "id": "b91282de",
   "metadata": {},
   "source": [
    "# Overview\n",
    "\n",
    "\n",
    "This demo shows how to load, train and test with the `Biased-Cars Dataset` with blurring. Below are samples from the dataset."
   ]
  },
  {
   "cell_type": "code",
   "execution_count": 1,
   "id": "5641fa63",
   "metadata": {},
   "outputs": [],
   "source": [
    "%matplotlib inline\n",
    "from IPython.display import Image"
   ]
  },
  {
   "cell_type": "code",
   "execution_count": 2,
   "id": "dee78c8e",
   "metadata": {},
   "outputs": [],
   "source": [
    "CODE_ROOT = '..'"
   ]
  },
  {
   "cell_type": "code",
   "execution_count": 3,
   "id": "3aa6c818",
   "metadata": {},
   "outputs": [
    {
     "name": "stdout",
     "output_type": "stream",
     "text": [
      "d:\\DL_Final_Project\\CU_DL_Final_Project_CNN\\demos\n",
      "../res\\loader\\loader.py\n",
      "../res\\loader\n"
     ]
    },
    {
     "data": {
      "text/plain": [
       "<Figure size 432x288 with 0 Axes>"
      ]
     },
     "metadata": {},
     "output_type": "display_data"
    }
   ],
   "source": [
    "from __future__ import print_function, division\n",
    "import torch\n",
    "import torch.nn as nn\n",
    "import torch.optim as optim\n",
    "from torch.autograd import Variable\n",
    "import numpy as np\n",
    "import torchvision\n",
    "from torchvision import datasets, models, transforms\n",
    "import matplotlib.pyplot as plt\n",
    "import time\n",
    "import copy\n",
    "import os\n",
    "from PIL import ImageFile\n",
    "import random\n",
    "ImageFile.LOAD_TRUNCATED_IMAGES = True\n",
    "import argparse\n",
    "import pickle\n",
    "import sys\n",
    "sys.path.append('%s/res/'%CODE_ROOT)\n",
    "from models.models import get_model\n",
    "from loader.loader import get_loader\n",
    "from tqdm.notebook import tqdm\n",
    "from IPython.display import clear_output\n",
    "import matplotlib.pyplot as plt\n",
    "import seaborn as sns\n",
    "sns.set_context(\"poster\")\n",
    "sns.set_palette(\"Set1\", 8, .75)\n",
    "sns.despine()"
   ]
  },
  {
   "cell_type": "markdown",
   "id": "5ca531b2",
   "metadata": {},
   "source": [
    "# Sample images from the dataset"
   ]
  },
  {
   "cell_type": "code",
   "execution_count": 23,
   "id": "0ce06d4e",
   "metadata": {},
   "outputs": [
    {
     "data": {
      "text/html": [
       "<img src=\"../docs/images/biased_cars_blurred_samples.gif\" width=\"500\"/>"
      ],
      "text/plain": [
       "<IPython.core.display.Image object>"
      ]
     },
     "execution_count": 23,
     "metadata": {},
     "output_type": "execute_result"
    }
   ],
   "source": [
    "image_url = \"../docs/images/biased_cars_blurred_samples.gif\"\n",
    "Image(url=image_url, width=500)"
   ]
  },
  {
   "cell_type": "markdown",
   "id": "e5ecc170",
   "metadata": {},
   "source": [
    "### Make sure biased-cars data is downloaded and formatted"
   ]
  },
  {
   "cell_type": "markdown",
   "id": "1dc4d85b",
   "metadata": {},
   "source": [
    "If data isn't downloaded, please run the bash script under `utils` following:\n",
    "\n",
    "```\n",
    "cd utils\n",
    "bash download_biased_cars.sh\n",
    "```"
   ]
  },
  {
   "cell_type": "code",
   "execution_count": 5,
   "id": "8f0d252e",
   "metadata": {},
   "outputs": [],
   "source": [
    "DATASET_NAMES = ['blur_model_15_compositions_seen']\n",
    "\n",
    "NUM_EPOCHS = 10\n",
    "BATCH_SIZE = 10\n",
    "ARCH = 'LATE_BRANCHING_COMBINED'\n",
    "\n",
    "image_transform=transforms.Compose([\n",
    "        transforms.ToTensor(),\n",
    "        transforms.Normalize((0.1307,), (0.3081,))\n",
    "    ])\n",
    "\n",
    "\n",
    "GPU = 1"
   ]
  },
  {
   "cell_type": "code",
   "execution_count": 10,
   "id": "1dd09ee6",
   "metadata": {},
   "outputs": [],
   "source": [
    "NUM_CLASSES = (5,5,5,5)\n",
    "loader_new = get_loader('multi_attribute_loader_file_list')\n",
    "\n",
    "file_list_root = '%s/dataset_lists/biased_cars_blurred_lists/'%CODE_ROOT\n",
    "att_path = \"%s/data/biased_cars_blurred/att_dict_simplified_blurred.p\"%CODE_ROOT"
   ]
  },
  {
   "cell_type": "code",
   "execution_count": 11,
   "id": "768b1338",
   "metadata": {},
   "outputs": [],
   "source": [
    "shuffles = {'train':True,'val':True,'test':False}"
   ]
  },
  {
   "cell_type": "code",
   "execution_count": 12,
   "id": "fd8b4799",
   "metadata": {},
   "outputs": [],
   "source": [
    "data_dir = '%s/data/'%CODE_ROOT"
   ]
  },
  {
   "cell_type": "code",
   "execution_count": 13,
   "id": "de1c3824",
   "metadata": {},
   "outputs": [],
   "source": [
    "all_dsets = {}\n",
    "all_dset_loaders = {}\n",
    "all_dset_sizes = {}\n",
    "\n",
    "for DATASET_NAME in DATASET_NAMES:\n",
    "    file_lists = {}\n",
    "    dsets = {}\n",
    "    dset_loaders = {}\n",
    "    dset_sizes = {}\n",
    "    for phase in ['train','val','test']:\n",
    "        file_lists[phase] = \"%s/%s_list_%s.txt\"%(file_list_root,phase,DATASET_NAME)\n",
    "        dsets[phase] = loader_new(file_lists[phase],att_path, image_transform, data_dir)\n",
    "        dset_loaders[phase] = torch.utils.data.DataLoader(dsets[phase], batch_size=BATCH_SIZE, shuffle = shuffles[phase], num_workers=2,drop_last=True)\n",
    "        dset_sizes[phase] = len(dsets[phase])\n",
    "    all_dsets[DATASET_NAME] = dsets\n",
    "    all_dset_loaders[DATASET_NAME] = dset_loaders\n",
    "    all_dset_sizes[DATASET_NAME] = dset_sizes"
   ]
  },
  {
   "cell_type": "code",
   "execution_count": 14,
   "id": "80e5689d",
   "metadata": {},
   "outputs": [],
   "source": [
    "multi_losses = [nn.CrossEntropyLoss(),nn.CrossEntropyLoss(),nn.CrossEntropyLoss(),nn.CrossEntropyLoss()]"
   ]
  },
  {
   "cell_type": "code",
   "execution_count": 15,
   "id": "b319753f",
   "metadata": {},
   "outputs": [],
   "source": [
    "def weight_scheduler(epoch_num, task):\n",
    "    if task == 'shared':\n",
    "        return [0.0,1.0,0.0,1.0]\n",
    "    elif task == 'viewpoint':\n",
    "        return [0.0,1.0,0.0,0.0]\n",
    "    elif task == 'category':\n",
    "        return [0.0,0.0,0.0,1.0]"
   ]
  },
  {
   "cell_type": "code",
   "execution_count": 16,
   "id": "9e787fb7",
   "metadata": {},
   "outputs": [],
   "source": [
    "def train_epoch(dset_loaders, dset_sizes, model, task, optimizer):\n",
    "    model.train()\n",
    "    torch.set_grad_enabled(True)\n",
    "    phase = 'train'\n",
    "    \n",
    "    weights = weight_scheduler(epoch, task)\n",
    "    iters = 0\n",
    "    phase_epoch_corrects = [0,0,0,0]\n",
    "    phase_epoch_loss = 0\n",
    "    \n",
    "    for data in dset_loaders[phase]:\n",
    "        inputs, labels_all, paths = data\n",
    "        inputs = Variable(inputs.float().cuda())\n",
    "\n",
    "        optimizer.zero_grad()\n",
    "        model_outs = model(inputs)\n",
    "        calculated_loss = 0\n",
    "        batch_corrects = [0,0,0,0]\n",
    "        \n",
    "        for i in range(4):\n",
    "            labels = labels_all[:,i]\n",
    "            if GPU:\n",
    "                labels = Variable(labels.long().cuda())\n",
    "            loss = multi_losses[i]\n",
    "            outputs = model_outs[i]\n",
    "            calculated_loss += weights[i] * loss(outputs,labels)\n",
    "            _, preds = torch.max(outputs.data, 1)\n",
    "            batch_corrects[i] = torch.sum(preds == labels.data)\n",
    "            phase_epoch_corrects[i] += batch_corrects[i]\n",
    "\n",
    "        \n",
    "        phase_epoch_loss += calculated_loss\n",
    "        calculated_loss.backward()\n",
    "        optimizer.step()\n",
    "        iters += 1\n",
    "    epoch_loss = phase_epoch_loss/dset_sizes[phase]\n",
    "    # print('Train loss:%s'%epoch_loss)\n",
    "    epoch_accs = [float(i)/dset_sizes[phase] for i in phase_epoch_corrects]\n",
    "\n",
    "    if task == 'shared':\n",
    "        epoch_gm = np.sqrt(epoch_accs[1] * epoch_accs[3])\n",
    "    elif task == 'viewpoint':\n",
    "        epoch_gm = epoch_accs[1]\n",
    "    elif task == 'category':\n",
    "        epoch_gm = epoch_accs[3]\n",
    "    \n",
    "    return model, epoch_loss, epoch_gm"
   ]
  },
  {
   "cell_type": "code",
   "execution_count": 17,
   "id": "9687f77a",
   "metadata": {},
   "outputs": [],
   "source": [
    "def test_epoch(dset_loaders, dset_sizes, model, best_model, best_test_loss, best_test_gm, task):\n",
    "    model.eval()\n",
    "    torch.set_grad_enabled(False)\n",
    "    phase = 'val'\n",
    "    weights = weight_scheduler(epoch, task)\n",
    "    iters = 0\n",
    "    phase_epoch_corrects = [0,0,0,0]\n",
    "    phase_epoch_loss = 0\n",
    "    \n",
    "    for data in dset_loaders[phase]:\n",
    "        inputs, labels_all, paths = data\n",
    "        inputs = Variable(inputs.float().cuda())\n",
    "        model_outs = model(inputs)\n",
    "        calculated_loss = 0\n",
    "        batch_corrects = [0,0,0,0]\n",
    "        \n",
    "        for i in range(4):\n",
    "            labels = labels_all[:,i]\n",
    "            if GPU:\n",
    "                labels = Variable(labels.long().cuda())\n",
    "            loss = multi_losses[i]\n",
    "            outputs = model_outs[i]\n",
    "            calculated_loss += weights[i] * loss(outputs,labels)\n",
    "            _, preds = torch.max(outputs.data, 1)\n",
    "            batch_corrects[i] = torch.sum(preds == labels.data)\n",
    "            phase_epoch_corrects[i] += batch_corrects[i]\n",
    "\n",
    "\n",
    "        phase_epoch_loss += calculated_loss\n",
    "        iters += 1\n",
    "    epoch_loss = phase_epoch_loss/dset_sizes[phase]\n",
    "    # print('Test loss:%s'%epoch_loss)\n",
    "    epoch_accs = [float(i)/dset_sizes[phase] for i in phase_epoch_corrects]\n",
    "    \n",
    "    if task == 'shared':\n",
    "        epoch_gm = np.sqrt(epoch_accs[1] * epoch_accs[3])\n",
    "    elif task == 'viewpoint':\n",
    "        epoch_gm = epoch_accs[1]\n",
    "    elif task == 'category':\n",
    "        epoch_gm = epoch_accs[3]\n",
    "    \n",
    "    if epoch_loss < best_test_loss:\n",
    "        best_model = model\n",
    "        best_test_loss = epoch_loss\n",
    "        best_test_gm = epoch_gm\n",
    "    \n",
    "    return best_model, epoch_loss, epoch_gm, best_test_loss, best_test_gm"
   ]
  },
  {
   "cell_type": "code",
   "execution_count": 18,
   "id": "01ebcbe2",
   "metadata": {},
   "outputs": [],
   "source": [
    "def unseen_test_epoch(dset_loaders, dset_sizes, model, task):\n",
    "    model.eval()\n",
    "    torch.set_grad_enabled(False)\n",
    "    phase = 'test'\n",
    "\n",
    "    weights = weight_scheduler(epoch, task)\n",
    "    iters = 0\n",
    "    phase_epoch_corrects = [0,0,0,0]\n",
    "    phase_epoch_loss = 0\n",
    "    \n",
    "    for data in dset_loaders[phase]:\n",
    "        inputs, labels_all, paths = data\n",
    "        inputs = Variable(inputs.float().cuda())\n",
    "        model_outs = model(inputs)\n",
    "        calculated_loss = 0\n",
    "        batch_corrects = [0,0,0,0]\n",
    "        \n",
    "        for i in range(4):\n",
    "            labels = labels_all[:,i]\n",
    "            if GPU:\n",
    "                labels = Variable(labels.long().cuda())\n",
    "            loss = multi_losses[i]\n",
    "            outputs = model_outs[i]\n",
    "            calculated_loss += weights[i] * loss(outputs,labels)\n",
    "            _, preds = torch.max(outputs.data, 1)\n",
    "            batch_corrects[i] = torch.sum(preds == labels.data)\n",
    "            phase_epoch_corrects[i] += batch_corrects[i]\n",
    "\n",
    "\n",
    "        phase_epoch_loss += calculated_loss\n",
    "        iters += 1\n",
    "    epoch_loss = phase_epoch_loss/dset_sizes[phase]\n",
    "    epoch_accs = [float(i)/dset_sizes[phase] for i in phase_epoch_corrects]\n",
    "    \n",
    "    if task == 'shared':\n",
    "        epoch_gm = np.sqrt(epoch_accs[1] * epoch_accs[3])\n",
    "    elif task == 'viewpoint':\n",
    "        epoch_gm = epoch_accs[1]\n",
    "    elif task == 'category':\n",
    "        epoch_gm = epoch_accs[3]\n",
    "    \n",
    "    return epoch_loss, epoch_gm"
   ]
  },
  {
   "cell_type": "code",
   "execution_count": 19,
   "id": "765cef7e",
   "metadata": {},
   "outputs": [],
   "source": [
    "plt.rc('xtick', labelsize=14) \n",
    "plt.rc('ytick', labelsize=14) "
   ]
  },
  {
   "cell_type": "code",
   "execution_count": 20,
   "id": "04c7a9aa",
   "metadata": {},
   "outputs": [
    {
     "data": {
      "text/plain": [
       "['blur_model_15_compositions_seen']"
      ]
     },
     "execution_count": 20,
     "metadata": {},
     "output_type": "execute_result"
    }
   ],
   "source": [
    "DATASET_NAMES"
   ]
  },
  {
   "cell_type": "code",
   "execution_count": 21,
   "id": "c904d9e0",
   "metadata": {},
   "outputs": [],
   "source": [
    "dataset_titles = {}\n",
    "dataset_titles['blur_model_15_compositions_seen'] = \"60% combinations seen\""
   ]
  },
  {
   "cell_type": "code",
   "execution_count": 22,
   "id": "69829746",
   "metadata": {},
   "outputs": [
    {
     "data": {
      "application/vnd.jupyter.widget-view+json": {
       "model_id": "4d34c77917d649429584c5be7a3f5549",
       "version_major": 2,
       "version_minor": 0
      },
      "text/plain": [
       "  0%|          | 0/5 [00:00<?, ?it/s]"
      ]
     },
     "metadata": {},
     "output_type": "display_data"
    },
    {
     "name": "stdout",
     "output_type": "stream",
     "text": [
      "Epoch: 0, Task: viewpoint\n",
      "---------\n",
      "Epoch: 0, Task: category\n",
      "---------\n",
      "Epoch: 0, Task: shared\n",
      "---------\n",
      "Epoch: 1, Task: viewpoint\n",
      "---------\n",
      "Epoch: 1, Task: category\n",
      "---------\n",
      "Epoch: 1, Task: shared\n",
      "---------\n",
      "Epoch: 2, Task: viewpoint\n",
      "---------\n",
      "Epoch: 2, Task: category\n",
      "---------\n",
      "Epoch: 2, Task: shared\n",
      "---------\n",
      "Epoch: 3, Task: viewpoint\n",
      "---------\n",
      "Epoch: 3, Task: category\n",
      "---------\n",
      "Epoch: 3, Task: shared\n",
      "---------\n",
      "Epoch: 4, Task: viewpoint\n",
      "---------\n",
      "Epoch: 4, Task: category\n",
      "---------\n",
      "Epoch: 4, Task: shared\n",
      "---------\n"
     ]
    },
    {
     "name": "stderr",
     "output_type": "stream",
     "text": [
      "C:\\Users\\zixiangloh\\anaconda3\\envs\\geo_env_3p7\\lib\\site-packages\\ipykernel_launcher.py:82: UserWarning: You have mixed positional and keyword arguments, some input may be discarded.\n"
     ]
    },
    {
     "data": {
      "image/png": "[encoded data removed]",
      "text/plain": [
       "<Figure size 1296x432 with 3 Axes>"
      ]
     },
     "metadata": {
      "needs_background": "light"
     },
     "output_type": "display_data"
    }
   ],
   "source": [
    "for DATASET_NAME in DATASET_NAMES:\n",
    "    dsets = all_dsets[DATASET_NAME]\n",
    "    dset_loaders = all_dset_loaders[DATASET_NAME]\n",
    "    dset_sizes = all_dset_sizes[DATASET_NAME]\n",
    "    \n",
    "    models = {}\n",
    "\n",
    "    models['shared']= get_model(ARCH,NUM_CLASSES)\n",
    "    models['viewpoint']= get_model(ARCH,NUM_CLASSES)\n",
    "    models['category']= get_model(ARCH,NUM_CLASSES)\n",
    "\n",
    "    models['shared'].cuda();\n",
    "    models['viewpoint'].cuda();\n",
    "    models['category'].cuda();\n",
    "\n",
    "    best_models = {}\n",
    "    best_models['shared'] = models['shared']\n",
    "    best_models['viewpoint'] = models['viewpoint']\n",
    "    best_models['category'] = models['category']\n",
    "\n",
    "    best_test_loss = 100\n",
    "    best_test_gm = 0\n",
    "\n",
    "    all_train_gms = {}\n",
    "    all_train_gms['shared'] = [0]\n",
    "    all_train_gms['separate'] = [0]\n",
    "\n",
    "    all_test_gms = {}\n",
    "    all_test_gms['shared'] = [0]\n",
    "    all_test_gms['separate'] = [0]\n",
    "\n",
    "    all_unseen_test_gms = {}\n",
    "    all_unseen_test_gms['shared'] = [0]\n",
    "    all_unseen_test_gms['separate'] = [0]\n",
    "\n",
    "    optimizers = {}\n",
    "    optimizers['shared'] = optim.Adam(models['shared'].parameters(), lr=0.001)\n",
    "    optimizers['viewpoint'] = optim.Adam(models['viewpoint'].parameters(), lr=0.001)\n",
    "    optimizers['category'] = optim.Adam(models['category'].parameters(), lr=0.001)\n",
    "    for epoch in tqdm(range(5)):\n",
    "        train_gm_separate = 1\n",
    "        test_gm_separate = 1\n",
    "        unseen_test_gm_separate = 1\n",
    "\n",
    "        for TASK in ['viewpoint','category','shared']:\n",
    "            print('Epoch: %s, Task: %s'%(epoch,TASK))\n",
    "            print('---------')\n",
    "            models[TASK], train_loss, train_gm = train_epoch(dset_loaders, dset_sizes, models[TASK], TASK, optimizers[TASK])\n",
    "            best_models[TASK], test_loss, test_gm, best_test_loss, best_test_gm = test_epoch(dset_loaders, dset_sizes, models[TASK], best_models[TASK], best_test_loss, best_test_gm, TASK)\n",
    "            unseen_test_loss, unseen_test_gm = unseen_test_epoch(dset_loaders, dset_sizes, models[TASK], TASK)\n",
    "\n",
    "            if TASK != 'shared':\n",
    "                train_gm_separate = train_gm_separate * train_gm\n",
    "                test_gm_separate = test_gm_separate * test_gm\n",
    "                unseen_test_gm_separate = unseen_test_gm_separate * test_gm\n",
    "\n",
    "        all_train_gms['separate'].append(np.sqrt(train_gm_separate))\n",
    "        all_test_gms['separate'].append(np.sqrt(test_gm_separate))\n",
    "        all_unseen_test_gms['separate'].append(np.sqrt(unseen_test_gm_separate))\n",
    "        all_train_gms['shared'].append(train_gm)\n",
    "        all_test_gms['shared'].append(test_gm)\n",
    "        all_unseen_test_gms['shared'].append(np.sqrt(unseen_test_gm))\n",
    "\n",
    "    fig,ax = plt.subplots(1, 3, figsize=(18,6))\n",
    "    fig.suptitle(dataset_titles[DATASET_NAME], fontsize = 30)\n",
    "    l1 = ax[0].plot(all_train_gms['separate'], color = 'blue', marker = 'o', markersize=5)[0]\n",
    "    l2 = ax[0].plot(all_train_gms['shared'], color = 'red', marker = 'o', markersize=5)[0]\n",
    "    ax[0].set_title('Train Accuracy', fontsize=12)\n",
    "    line_labels = [\"Separate\", \"Shared\"]\n",
    "\n",
    "    ax[1].plot(all_test_gms['separate'], color = 'blue', marker = 'o', markersize=5)\n",
    "    ax[1].plot(all_test_gms['shared'], color = 'red', marker = 'o', markersize=5)\n",
    "    ax[1].set_title('Test Accuracy on Seen \\n Category-Viewpoint Combinations', fontsize=12)\n",
    "\n",
    "    ax[2].plot(all_unseen_test_gms['separate'], color = 'blue', marker = 'o', markersize=5)\n",
    "    ax[2].plot(all_unseen_test_gms['shared'], color = 'red', marker = 'o', markersize=5)\n",
    "    ax[2].set_title('Test Accuracy on Unseen \\n Category-Viewpoint Combinations', fontsize=12)\n",
    "    fig.legend([l1, l2],     # The line objects\n",
    "            labels=line_labels,   # The labels for each line\n",
    "            loc=\"center right\",   # Position of legend\n",
    "            borderaxespad=0.2,    # Small spacing around legend box\n",
    "            prop={\"size\":20})\n",
    "    plt.subplots_adjust(right=0.85, top =0.80)\n",
    "    plt.show()"
   ]
  },
  {
   "cell_type": "code",
   "execution_count": null,
   "id": "1bcba6ed",
   "metadata": {},
   "outputs": [],
   "source": []
  }
 ],
 "metadata": {
  "kernelspec": {
   "display_name": "Python [conda env:geo_env_3p7]",
   "language": "python",
   "name": "conda-env-geo_env_3p7-py"
  },
  "language_info": {
   "codemirror_mode": {
    "name": "ipython",
    "version": 3
   },
   "file_extension": ".py",
   "mimetype": "text/x-python",
   "name": "python",
   "nbconvert_exporter": "python",
   "pygments_lexer": "ipython3",
   "version": "3.7.11"
  }
 },
 "nbformat": 4,
 "nbformat_minor": 5
}
